{
 "cells": [
  {
   "cell_type": "code",
   "execution_count": 37,
   "id": "9b200d4b",
   "metadata": {},
   "outputs": [],
   "source": [
    "import pandas as pd"
   ]
  },
  {
   "cell_type": "code",
   "execution_count": 38,
   "id": "0b9c0fe7",
   "metadata": {},
   "outputs": [],
   "source": [
    "# name = None  # string, not boolean\n",
    "\n",
    "# gender_dict = {\"women\": \"women\", \"men\": \"men\", \"unisex\": \"unisex\"}\n",
    "\n",
    "# target_dict = {\"myself\": False, \"gift\": False}\n",
    "\n",
    "# personality_dict = {\n",
    "#     \"bold\": False, \"elegant\": False, \"fresh\": False, \"warm\": False, \"mysterious\": False\n",
    "# }\n",
    "\n",
    "# occasion_dict = {\"casual\": False, \"formal\": False, \"romantic\": False, \"party\": False, \"work\": False}\n",
    "\n",
    "# season_dict = {\"spring_summer\": False, \"fall_winter\": False}\n",
    "\n",
    "# budget_dict = {\n",
    "#     \"under_50\": False, \"50_75\": False, \"75_plus\": False,      # affordable\n",
    "#     \"50_100\": False, \"100_150\": False, \"150_plus\": False,     # mid/designer\n",
    "#     \"100_200\": False, \"200_300\": False, \"300_plus\": False     # luxury\n",
    "# }\n",
    "\n",
    "# scent_dict = {\n",
    "#     # Bold\n",
    "#     \"woody\": False, \"spicy\": False, \"oriental\": False,\n",
    "#     # Elegant\n",
    "#     \"floral_oriental\": False, \"sweet_aromatic\": False,\n",
    "#     # Fresh branch\n",
    "#     \"fresh\": False, \"citrus\": False, \"fruity\": False,\n",
    "#     # Warm/comforting\n",
    "#     \"vanilla\": False, \"musk\": False, \"sandalwood\": False,\n",
    "#     # Mysterious\n",
    "#     \"woody_spicy\": False, \"arabian\": False,\n",
    "#     # Season/occasion side-branch\n",
    "#     \"clean\": False, \"aromatic\": False\n",
    "# }\n",
    "\n",
    "# brands_dict = {\"luxury\": False, \"mid_range\": False, \"designer\": False, \"niche\": False, \"affordable\": False}\n"
   ]
  },
  {
   "cell_type": "code",
   "execution_count": null,
   "id": "d67d58fd",
   "metadata": {},
   "outputs": [],
   "source": [
    "user_profile = {\n",
    "    \"name\": \"\",\n",
    "    \"gender\": {'women': False, 'men': False, 'unisex': False},\n",
    "    \"target\": {'myself': False, 'gift': False},\n",
    "    \n",
    "}"
   ]
  },
  {
   "cell_type": "code",
   "execution_count": null,
   "id": "53b2ba33",
   "metadata": {},
   "outputs": [],
   "source": [
    "questions = [\n",
    "    {\n",
    "        'id': 0,\n",
    "        'question': 'What is your name?',\n",
    "        'attribute': 'name',\n",
    "        'type': 'text'\n",
    "    },\n",
    "    {\n",
    "        'id': 1,\n",
    "        'question': 'Which gender perfume are you looking for?',\n",
    "        'type': 'multi-choice',\n",
    "        'valid_range': 3,\n",
    "        'attribute': 'gender',\n",
    "        'answers': {1: 'women', 2: 'men', 3: 'unisex'}\n",
    "    },\n",
    "    {\n",
    "        'id': 2,\n",
    "        'question': 'Are you shopping for yourself or buying a gift?',\n",
    "        'type': 'multi-choice',\n",
    "        'valid_range': 2,\n",
    "        'attribute': 'target',\n",
    "        'answers': {1: 'myself', 2: 'gift'}\n",
    "    },\n",
    "    {   'id': 3,\n",
    "        'question': 'Which personality best describes the recipient?',\n",
    "        'type': 'uni-choice',\n",
    "        'valid_range': '5',\n",
    "        'attribute': 'personality',\n",
    "        'answers': {1: 'Adventurous / Bold', 2: 'Romantic / Elegant', 3: 'Fresh / Energetic', 4: 'Warm / Comforting', 5: 'Exotic / Mysterious'}\n",
    "        \n",
    "    },\n",
    "    {\n",
    "        'id': 4,\n",
    "        'question': 'What kind of bold scent would they prefer?',\n",
    "        'type': 'multi-choice',\n",
    "        'valid_range': 3,\n",
    "        'attribute':\n",
    "    }\n",
    "]"
   ]
  },
  {
   "cell_type": "code",
   "execution_count": 41,
   "id": "2978cc7d",
   "metadata": {},
   "outputs": [
    {
     "name": "stdout",
     "output_type": "stream",
     "text": [
      "Questions:  Which gender perfume are you looking for?\n",
      "Answers:  {1: 'women', 2: 'men', 3: 'unisex'}\n"
     ]
    }
   ],
   "source": [
    "print(\"Questions: \", questions[1]['question'])\n",
    "print(\"Answers: \", questions[1]['answers'])\n"
   ]
  },
  {
   "cell_type": "code",
   "execution_count": 42,
   "id": "f033b66f",
   "metadata": {},
   "outputs": [],
   "source": [
    "# Check input from user and display error if user chose invalid option \n",
    "def check_input(user_input_list, valid_range):\n",
    "    if not user_input_list:\n",
    "        print(\"Invalid choice (empty).\")\n",
    "        return False\n",
    "    \n",
    "    for user_input in user_input_list:\n",
    "        if int(user_input) and 1 <= int(user_input) <= valid_range:\n",
    "            print(f\"{user_input}\")\n",
    "            \n",
    "        else:\n",
    "            print(\"Invalid choice\")\n",
    "            return False\n",
    "    \n",
    "    return True"
   ]
  },
  {
   "cell_type": "code",
   "execution_count": 43,
   "id": "964d1229",
   "metadata": {},
   "outputs": [],
   "source": [
    "import re"
   ]
  },
  {
   "cell_type": "code",
   "execution_count": 47,
   "id": "e8f87981",
   "metadata": {},
   "outputs": [
    {
     "name": "stdout",
     "output_type": "stream",
     "text": [
      "1. women\n",
      "2. men\n",
      "3. unisex\n"
     ]
    }
   ],
   "source": [
    "q = questions[1]\n",
    "for idx, key in q['answers'].items():\n",
    "    print(f\"{idx}. {key}\")"
   ]
  },
  {
   "cell_type": "code",
   "execution_count": null,
   "id": "cda19b30",
   "metadata": {},
   "outputs": [],
   "source": [
    "def ask_question(question_id):\n",
    "    q = questions[question_id]\n",
    "    print(q['question'])\n",
    "    \n",
    "    # Save and only print answer options for type 'choice' questions\n",
    "    if q['type'] == 'multi-choice':\n",
    "        # Initial \n",
    "        user_input = ''\n",
    "        if 'answers' in q:\n",
    "            print(\"Options: \")\n",
    "            for idx, key in q['answers'].items():\n",
    "                print(f\"{idx}. {key}\")\n",
    "        \n",
    "        # Keep asking until valid\n",
    "        while True:\n",
    "            user_input = input(\n",
    "                f\"Input a number from 1 to {q['valid_range']}\"\n",
    "                \"(e.g: 1, 2, 3): \"\n",
    "            ).strip()   \n",
    "                    \n",
    "            user_input_list = [x for x in re.split(r'[,\\s]+', user_input) if x]\n",
    "            \n",
    "            if check_input(user_input_list, q['valid_range']):\n",
    "                break\n",
    "            else: \n",
    "                continue\n",
    "        # Update boolean flags\n",
    "        result = user_profile[q['attribute']]\n",
    "        for user_input in user_input_list:\n",
    "            result[q['answers'][int(user_input)]] = True\n",
    "        user_profile[q['attribute']] = result\n",
    "    \n",
    "    if q['type'] == 'text':\n",
    "        user_input = str(input(f\"Input: \"))\n",
    "        user_profile[q['attribute']] = user_input\n",
    "        \n",
    "    "
   ]
  },
  {
   "cell_type": "code",
   "execution_count": 49,
   "id": "c35d744b",
   "metadata": {},
   "outputs": [
    {
     "name": "stdout",
     "output_type": "stream",
     "text": [
      "What is your name?\n",
      "Which gender perfume are you looking for?\n",
      "Options: \n",
      "1. women\n",
      "2. men\n",
      "3. unisex\n",
      "['1', '2']\n",
      "1\n",
      "2\n",
      "Are you shopping for yourself or buying a gift?\n",
      "Options: \n",
      "1. myself\n",
      "2. gift\n",
      "['1']\n",
      "1\n"
     ]
    }
   ],
   "source": [
    "ask_question(0)\n",
    "ask_question(1)\n",
    "ask_question(2)"
   ]
  },
  {
   "cell_type": "code",
   "execution_count": 50,
   "id": "3e20c098",
   "metadata": {},
   "outputs": [
    {
     "data": {
      "text/plain": [
       "{'name': 'ellie',\n",
       " 'gender': {'women': True, 'men': True, 'unisex': False},\n",
       " 'target': {'myself': True, 'gift': False}}"
      ]
     },
     "execution_count": 50,
     "metadata": {},
     "output_type": "execute_result"
    }
   ],
   "source": [
    "user_profile"
   ]
  }
 ],
 "metadata": {
  "kernelspec": {
   "display_name": "base",
   "language": "python",
   "name": "python3"
  },
  "language_info": {
   "codemirror_mode": {
    "name": "ipython",
    "version": 3
   },
   "file_extension": ".py",
   "mimetype": "text/x-python",
   "name": "python",
   "nbconvert_exporter": "python",
   "pygments_lexer": "ipython3",
   "version": "3.13.5"
  }
 },
 "nbformat": 4,
 "nbformat_minor": 5
}
